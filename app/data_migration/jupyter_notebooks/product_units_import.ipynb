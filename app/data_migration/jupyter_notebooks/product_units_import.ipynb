{
 "cells": [
  {
   "cell_type": "code",
   "execution_count": 17,
   "id": "cd61ea24",
   "metadata": {},
   "outputs": [],
   "source": [
    "import pandas as pd\n",
    "df = pd.read_csv('../csv/inventory_units.csv')"
   ]
  },
  {
   "cell_type": "code",
   "execution_count": 18,
   "id": "bf3cbca9",
   "metadata": {},
   "outputs": [
    {
     "data": {
      "text/html": [
       "<div>\n",
       "<style scoped>\n",
       "    .dataframe tbody tr th:only-of-type {\n",
       "        vertical-align: middle;\n",
       "    }\n",
       "\n",
       "    .dataframe tbody tr th {\n",
       "        vertical-align: top;\n",
       "    }\n",
       "\n",
       "    .dataframe thead th {\n",
       "        text-align: right;\n",
       "    }\n",
       "</style>\n",
       "<table border=\"1\" class=\"dataframe\">\n",
       "  <thead>\n",
       "    <tr style=\"text-align: right;\">\n",
       "      <th></th>\n",
       "      <th>id</th>\n",
       "      <th>Name</th>\n",
       "      <th>Created_at</th>\n",
       "      <th>Updated_at</th>\n",
       "    </tr>\n",
       "  </thead>\n",
       "  <tbody>\n",
       "    <tr>\n",
       "      <th>0</th>\n",
       "      <td>1</td>\n",
       "      <td>NaN</td>\n",
       "      <td>2020-11-12 11:50:25</td>\n",
       "      <td>NaN</td>\n",
       "    </tr>\n",
       "    <tr>\n",
       "      <th>1</th>\n",
       "      <td>2</td>\n",
       "      <td>Litre(s)</td>\n",
       "      <td>2020-11-13 05:37:19</td>\n",
       "      <td>NaN</td>\n",
       "    </tr>\n",
       "    <tr>\n",
       "      <th>2</th>\n",
       "      <td>3</td>\n",
       "      <td>Packs</td>\n",
       "      <td>0000-00-00 00:00:00</td>\n",
       "      <td>NaN</td>\n",
       "    </tr>\n",
       "    <tr>\n",
       "      <th>3</th>\n",
       "      <td>4</td>\n",
       "      <td>Packets</td>\n",
       "      <td>0000-00-00 00:00:00</td>\n",
       "      <td>NaN</td>\n",
       "    </tr>\n",
       "    <tr>\n",
       "      <th>4</th>\n",
       "      <td>5</td>\n",
       "      <td>Dozen</td>\n",
       "      <td>0000-00-00 00:00:00</td>\n",
       "      <td>NaN</td>\n",
       "    </tr>\n",
       "    <tr>\n",
       "      <th>5</th>\n",
       "      <td>6</td>\n",
       "      <td>Box</td>\n",
       "      <td>0000-00-00 00:00:00</td>\n",
       "      <td>NaN</td>\n",
       "    </tr>\n",
       "    <tr>\n",
       "      <th>6</th>\n",
       "      <td>7</td>\n",
       "      <td>Sachets</td>\n",
       "      <td>0000-00-00 00:00:00</td>\n",
       "      <td>NaN</td>\n",
       "    </tr>\n",
       "    <tr>\n",
       "      <th>7</th>\n",
       "      <td>8</td>\n",
       "      <td>Tins</td>\n",
       "      <td>0000-00-00 00:00:00</td>\n",
       "      <td>NaN</td>\n",
       "    </tr>\n",
       "    <tr>\n",
       "      <th>8</th>\n",
       "      <td>9</td>\n",
       "      <td>Containers</td>\n",
       "      <td>0000-00-00 00:00:00</td>\n",
       "      <td>NaN</td>\n",
       "    </tr>\n",
       "    <tr>\n",
       "      <th>9</th>\n",
       "      <td>10</td>\n",
       "      <td>Kilogram(s)</td>\n",
       "      <td>2020-11-13 05:37:06</td>\n",
       "      <td>NaN</td>\n",
       "    </tr>\n",
       "  </tbody>\n",
       "</table>\n",
       "</div>"
      ],
      "text/plain": [
       "   id         Name           Created_at  Updated_at\n",
       "0   1          NaN  2020-11-12 11:50:25         NaN\n",
       "1   2     Litre(s)  2020-11-13 05:37:19         NaN\n",
       "2   3        Packs  0000-00-00 00:00:00         NaN\n",
       "3   4      Packets  0000-00-00 00:00:00         NaN\n",
       "4   5        Dozen  0000-00-00 00:00:00         NaN\n",
       "5   6          Box  0000-00-00 00:00:00         NaN\n",
       "6   7      Sachets  0000-00-00 00:00:00         NaN\n",
       "7   8         Tins  0000-00-00 00:00:00         NaN\n",
       "8   9   Containers  0000-00-00 00:00:00         NaN\n",
       "9  10  Kilogram(s)  2020-11-13 05:37:06         NaN"
      ]
     },
     "execution_count": 18,
     "metadata": {},
     "output_type": "execute_result"
    }
   ],
   "source": [
    "df.head(10)"
   ]
  },
  {
   "cell_type": "code",
   "execution_count": 19,
   "id": "602f8598",
   "metadata": {},
   "outputs": [
    {
     "data": {
      "text/plain": [
       "['id', 'Name', 'Created_at', 'Updated_at']"
      ]
     },
     "execution_count": 19,
     "metadata": {},
     "output_type": "execute_result"
    }
   ],
   "source": [
    "headers = list(df.columns)\n",
    "headers"
   ]
  },
  {
   "cell_type": "code",
   "execution_count": 20,
   "id": "f170b732",
   "metadata": {},
   "outputs": [
    {
     "data": {
      "text/plain": [
       "['Name']"
      ]
     },
     "execution_count": 20,
     "metadata": {},
     "output_type": "execute_result"
    }
   ],
   "source": [
    "headers.remove('id')\n",
    "headers.remove('Created_at')\n",
    "headers.remove('Updated_at')\n",
    "headers"
   ]
  },
  {
   "cell_type": "code",
   "execution_count": 21,
   "id": "467ab683",
   "metadata": {},
   "outputs": [
    {
     "name": "stdout",
     "output_type": "stream",
     "text": [
      "{'unit_name': nan}\n",
      "{'unit_name': 'Litre(s)'}\n",
      "{'unit_name': 'Packs'}\n",
      "{'unit_name': 'Packets'}\n",
      "{'unit_name': 'Dozen'}\n"
     ]
    }
   ],
   "source": [
    "for i, row in df.head(5).iterrows():\n",
    "  values = {'unit_name': row[header] for header in headers}\n",
    "  print(values)"
   ]
  },
  {
   "cell_type": "code",
   "execution_count": 26,
   "id": "8506df73",
   "metadata": {},
   "outputs": [],
   "source": [
    "for i, row in df.iterrows():\n",
    "  values = {'unit_name': row[header] for header in headers if row[header]}\n",
    "  for header in headers:\n",
    "    if row[header] == 'Kilogram(s)':\n",
    "      values['measurement_mode'] = 'weight'\n",
    "  with open('../query_scripts/product_units.py', 'a') as fp:\n",
    "      fp.write('create_product_unit(**'+str(values)+')\\n')"
   ]
  },
  {
   "cell_type": "code",
   "execution_count": null,
   "id": "105c7248",
   "metadata": {},
   "outputs": [],
   "source": []
  }
 ],
 "metadata": {
  "kernelspec": {
   "display_name": "Python 3 (ipykernel)",
   "language": "python",
   "name": "python3"
  },
  "language_info": {
   "codemirror_mode": {
    "name": "ipython",
    "version": 3
   },
   "file_extension": ".py",
   "mimetype": "text/x-python",
   "name": "python",
   "nbconvert_exporter": "python",
   "pygments_lexer": "ipython3",
   "version": "3.10.8"
  }
 },
 "nbformat": 4,
 "nbformat_minor": 5
}
