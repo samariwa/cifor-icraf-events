{
 "cells": [
  {
   "cell_type": "code",
   "execution_count": 7,
   "id": "e189331c",
   "metadata": {},
   "outputs": [],
   "source": [
    "import pandas as pd\n",
    "df = pd.read_csv('../csv/expenses.csv')"
   ]
  },
  {
   "cell_type": "code",
   "execution_count": 8,
   "id": "5a2106ce",
   "metadata": {},
   "outputs": [
    {
     "data": {
      "text/html": [
       "<div>\n",
       "<style scoped>\n",
       "    .dataframe tbody tr th:only-of-type {\n",
       "        vertical-align: middle;\n",
       "    }\n",
       "\n",
       "    .dataframe tbody tr th {\n",
       "        vertical-align: top;\n",
       "    }\n",
       "\n",
       "    .dataframe thead th {\n",
       "        text-align: right;\n",
       "    }\n",
       "</style>\n",
       "<table border=\"1\" class=\"dataframe\">\n",
       "  <thead>\n",
       "    <tr style=\"text-align: right;\">\n",
       "      <th></th>\n",
       "      <th>id</th>\n",
       "      <th>Name</th>\n",
       "      <th>Created_at</th>\n",
       "      <th>Updated_at</th>\n",
       "    </tr>\n",
       "  </thead>\n",
       "  <tbody>\n",
       "    <tr>\n",
       "      <th>0</th>\n",
       "      <td>1</td>\n",
       "      <td>Transport</td>\n",
       "      <td>2022-02-20 06:44:55</td>\n",
       "      <td>NaN</td>\n",
       "    </tr>\n",
       "    <tr>\n",
       "      <th>1</th>\n",
       "      <td>2</td>\n",
       "      <td>Operational Expense</td>\n",
       "      <td>2022-03-01 11:33:13</td>\n",
       "      <td>NaN</td>\n",
       "    </tr>\n",
       "    <tr>\n",
       "      <th>2</th>\n",
       "      <td>3</td>\n",
       "      <td>Utility Bills</td>\n",
       "      <td>2022-03-02 08:28:55</td>\n",
       "      <td>NaN</td>\n",
       "    </tr>\n",
       "    <tr>\n",
       "      <th>3</th>\n",
       "      <td>4</td>\n",
       "      <td>Salaries</td>\n",
       "      <td>2022-03-03 13:03:03</td>\n",
       "      <td>NaN</td>\n",
       "    </tr>\n",
       "    <tr>\n",
       "      <th>4</th>\n",
       "      <td>5</td>\n",
       "      <td>Supplies</td>\n",
       "      <td>2022-03-10 04:19:40</td>\n",
       "      <td>NaN</td>\n",
       "    </tr>\n",
       "    <tr>\n",
       "      <th>5</th>\n",
       "      <td>6</td>\n",
       "      <td>Operating Licences</td>\n",
       "      <td>2022-03-22 05:04:19</td>\n",
       "      <td>NaN</td>\n",
       "    </tr>\n",
       "  </tbody>\n",
       "</table>\n",
       "</div>"
      ],
      "text/plain": [
       "   id                 Name           Created_at  Updated_at\n",
       "0   1            Transport  2022-02-20 06:44:55         NaN\n",
       "1   2  Operational Expense  2022-03-01 11:33:13         NaN\n",
       "2   3        Utility Bills  2022-03-02 08:28:55         NaN\n",
       "3   4             Salaries  2022-03-03 13:03:03         NaN\n",
       "4   5             Supplies  2022-03-10 04:19:40         NaN\n",
       "5   6   Operating Licences  2022-03-22 05:04:19         NaN"
      ]
     },
     "execution_count": 8,
     "metadata": {},
     "output_type": "execute_result"
    }
   ],
   "source": [
    "df.head(10)"
   ]
  },
  {
   "cell_type": "code",
   "execution_count": 9,
   "id": "09adc675",
   "metadata": {},
   "outputs": [
    {
     "data": {
      "text/plain": [
       "['id', 'Name', 'Created_at', 'Updated_at']"
      ]
     },
     "execution_count": 9,
     "metadata": {},
     "output_type": "execute_result"
    }
   ],
   "source": [
    "headers = list(df.columns)\n",
    "headers"
   ]
  },
  {
   "cell_type": "code",
   "execution_count": 10,
   "id": "cce7e490",
   "metadata": {},
   "outputs": [],
   "source": [
    "df = df.rename(columns={'Name': 'expense_category'})"
   ]
  },
  {
   "cell_type": "code",
   "execution_count": 11,
   "id": "36af3e4f",
   "metadata": {},
   "outputs": [
    {
     "data": {
      "text/plain": [
       "['expense_category']"
      ]
     },
     "execution_count": 11,
     "metadata": {},
     "output_type": "execute_result"
    }
   ],
   "source": [
    "headers = list(df.columns)\n",
    "headers.remove('Created_at')\n",
    "headers.remove('Updated_at')\n",
    "headers.remove('id')\n",
    "headers"
   ]
  },
  {
   "cell_type": "code",
   "execution_count": 12,
   "id": "75054586",
   "metadata": {},
   "outputs": [
    {
     "name": "stdout",
     "output_type": "stream",
     "text": [
      "{'expense_category': 'Transport'}\n",
      "{'expense_category': 'Operational Expense'}\n",
      "{'expense_category': 'Utility Bills'}\n",
      "{'expense_category': 'Salaries'}\n",
      "{'expense_category': 'Supplies'}\n"
     ]
    }
   ],
   "source": [
    "for i, row in df.head(5).iterrows():\n",
    "  values = {header: row[header] for header in headers}\n",
    "  print(values)"
   ]
  },
  {
   "cell_type": "code",
   "execution_count": 13,
   "id": "756bf3a4",
   "metadata": {},
   "outputs": [],
   "source": [
    "for i, row in df.iterrows():\n",
    "  values = {header: row[header] for header in headers if row[header]}\n",
    "\n",
    "  with open('../query_scripts/expense_categories.py', 'a') as fp:\n",
    "      fp.write('create_expense_category(**'+str(values)+')\\n')"
   ]
  },
  {
   "cell_type": "code",
   "execution_count": null,
   "id": "5deb1fd7",
   "metadata": {},
   "outputs": [],
   "source": []
  }
 ],
 "metadata": {
  "kernelspec": {
   "display_name": "Python 3 (ipykernel)",
   "language": "python",
   "name": "python3"
  },
  "language_info": {
   "codemirror_mode": {
    "name": "ipython",
    "version": 3
   },
   "file_extension": ".py",
   "mimetype": "text/x-python",
   "name": "python",
   "nbconvert_exporter": "python",
   "pygments_lexer": "ipython3",
   "version": "3.10.8"
  }
 },
 "nbformat": 4,
 "nbformat_minor": 5
}
