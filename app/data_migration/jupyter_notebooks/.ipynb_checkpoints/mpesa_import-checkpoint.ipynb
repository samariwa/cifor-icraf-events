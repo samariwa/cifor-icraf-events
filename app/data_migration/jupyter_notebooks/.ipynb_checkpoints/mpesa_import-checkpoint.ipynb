{
 "cells": [
  {
   "cell_type": "code",
   "execution_count": 17,
   "metadata": {
    "executionInfo": {
     "elapsed": 377,
     "status": "ok",
     "timestamp": 1686507671300,
     "user": {
      "displayName": "Pro Grammar",
      "userId": "12741485707467933399"
     },
     "user_tz": -180
    },
    "id": "sjjAUL7Erg79"
   },
   "outputs": [],
   "source": [
    "import pandas as pd\n",
    "df = pd.read_csv('../csv/mpesa_payments.csv')"
   ]
  },
  {
   "cell_type": "code",
   "execution_count": 18,
   "metadata": {
    "colab": {
     "base_uri": "https://localhost:8080/",
     "height": 363
    },
    "executionInfo": {
     "elapsed": 7,
     "status": "ok",
     "timestamp": 1686507683142,
     "user": {
      "displayName": "Pro Grammar",
      "userId": "12741485707467933399"
     },
     "user_tz": -180
    },
    "id": "Cb7XMEkUsNwZ",
    "outputId": "075b3f21-9dc8-425a-c3eb-95cc0137a711"
   },
   "outputs": [
    {
     "data": {
      "text/html": [
       "<div>\n",
       "<style scoped>\n",
       "    .dataframe tbody tr th:only-of-type {\n",
       "        vertical-align: middle;\n",
       "    }\n",
       "\n",
       "    .dataframe tbody tr th {\n",
       "        vertical-align: top;\n",
       "    }\n",
       "\n",
       "    .dataframe thead th {\n",
       "        text-align: right;\n",
       "    }\n",
       "</style>\n",
       "<table border=\"1\" class=\"dataframe\">\n",
       "  <thead>\n",
       "    <tr style=\"text-align: right;\">\n",
       "      <th></th>\n",
       "      <th>id</th>\n",
       "      <th>transaction_id</th>\n",
       "      <th>amount</th>\n",
       "      <th>time</th>\n",
       "      <th>msisdn</th>\n",
       "      <th>name</th>\n",
       "      <th>mpesa_payment_status</th>\n",
       "      <th>db_status</th>\n",
       "      <th>created_at</th>\n",
       "      <th>updated_at</th>\n",
       "    </tr>\n",
       "  </thead>\n",
       "  <tbody>\n",
       "    <tr>\n",
       "      <th>0</th>\n",
       "      <td>1</td>\n",
       "      <td>RCV32GIBVF</td>\n",
       "      <td>1</td>\n",
       "      <td>2023-03-31 15:34:36</td>\n",
       "      <td>2547 ***** 551</td>\n",
       "      <td>EMMANUEL</td>\n",
       "      <td>attributed</td>\n",
       "      <td>active</td>\n",
       "      <td>2023-03-31 12:34:37.271319+00</td>\n",
       "      <td>2023-04-07 05:51:35.255943+00</td>\n",
       "    </tr>\n",
       "    <tr>\n",
       "      <th>1</th>\n",
       "      <td>2</td>\n",
       "      <td>RCV42HPXMK</td>\n",
       "      <td>200</td>\n",
       "      <td>2023-03-31 15:46:58</td>\n",
       "      <td>2547 ***** 228</td>\n",
       "      <td>TEMITOPE</td>\n",
       "      <td>unknown</td>\n",
       "      <td>active</td>\n",
       "      <td>2023-03-31 12:46:58.932496+00</td>\n",
       "      <td>NaN</td>\n",
       "    </tr>\n",
       "    <tr>\n",
       "      <th>2</th>\n",
       "      <td>3</td>\n",
       "      <td>RCV12JY23B</td>\n",
       "      <td>400</td>\n",
       "      <td>2023-03-31 16:09:07</td>\n",
       "      <td>2547 ***** 418</td>\n",
       "      <td>MOHAMED</td>\n",
       "      <td>unknown</td>\n",
       "      <td>active</td>\n",
       "      <td>2023-03-31 13:09:08.117801+00</td>\n",
       "      <td>NaN</td>\n",
       "    </tr>\n",
       "    <tr>\n",
       "      <th>3</th>\n",
       "      <td>4</td>\n",
       "      <td>RCV92KRULJ</td>\n",
       "      <td>500</td>\n",
       "      <td>2023-03-31 16:17:21</td>\n",
       "      <td>2547 ***** 829</td>\n",
       "      <td>IRENE</td>\n",
       "      <td>unknown</td>\n",
       "      <td>active</td>\n",
       "      <td>2023-03-31 13:17:22.777533+00</td>\n",
       "      <td>NaN</td>\n",
       "    </tr>\n",
       "    <tr>\n",
       "      <th>4</th>\n",
       "      <td>5</td>\n",
       "      <td>RCV92LHK1D</td>\n",
       "      <td>400</td>\n",
       "      <td>2023-03-31 16:24:21</td>\n",
       "      <td>2547 ***** 418</td>\n",
       "      <td>MOHAMED</td>\n",
       "      <td>unknown</td>\n",
       "      <td>active</td>\n",
       "      <td>2023-03-31 13:24:23.225398+00</td>\n",
       "      <td>NaN</td>\n",
       "    </tr>\n",
       "    <tr>\n",
       "      <th>5</th>\n",
       "      <td>6</td>\n",
       "      <td>RCV62MJBHA</td>\n",
       "      <td>295</td>\n",
       "      <td>2023-03-31 16:34:05</td>\n",
       "      <td>2547 ***** 132</td>\n",
       "      <td>brian</td>\n",
       "      <td>unknown</td>\n",
       "      <td>active</td>\n",
       "      <td>2023-03-31 13:34:06.582739+00</td>\n",
       "      <td>NaN</td>\n",
       "    </tr>\n",
       "    <tr>\n",
       "      <th>6</th>\n",
       "      <td>7</td>\n",
       "      <td>RCV62NLQ7M</td>\n",
       "      <td>114</td>\n",
       "      <td>2023-03-31 16:43:43</td>\n",
       "      <td>2547 ***** 500</td>\n",
       "      <td>LILLIAN</td>\n",
       "      <td>unknown</td>\n",
       "      <td>active</td>\n",
       "      <td>2023-03-31 13:43:44.102129+00</td>\n",
       "      <td>NaN</td>\n",
       "    </tr>\n",
       "    <tr>\n",
       "      <th>7</th>\n",
       "      <td>8</td>\n",
       "      <td>RCV72PM8ZZ</td>\n",
       "      <td>695</td>\n",
       "      <td>2023-03-31 17:01:38</td>\n",
       "      <td>2547 ***** 316</td>\n",
       "      <td>OPEYEMI</td>\n",
       "      <td>unknown</td>\n",
       "      <td>active</td>\n",
       "      <td>2023-03-31 14:01:39.254328+00</td>\n",
       "      <td>NaN</td>\n",
       "    </tr>\n",
       "    <tr>\n",
       "      <th>8</th>\n",
       "      <td>9</td>\n",
       "      <td>RCV92PNEFF</td>\n",
       "      <td>60</td>\n",
       "      <td>2023-03-31 17:02:02</td>\n",
       "      <td>2547 ***** 466</td>\n",
       "      <td>ZENA</td>\n",
       "      <td>unknown</td>\n",
       "      <td>active</td>\n",
       "      <td>2023-03-31 14:02:03.00071+00</td>\n",
       "      <td>NaN</td>\n",
       "    </tr>\n",
       "    <tr>\n",
       "      <th>9</th>\n",
       "      <td>10</td>\n",
       "      <td>RCV62QQ6EW</td>\n",
       "      <td>250</td>\n",
       "      <td>2023-03-31 17:11:27</td>\n",
       "      <td>2547 ***** 140</td>\n",
       "      <td>ANNAH</td>\n",
       "      <td>unknown</td>\n",
       "      <td>active</td>\n",
       "      <td>2023-03-31 14:11:28.152434+00</td>\n",
       "      <td>NaN</td>\n",
       "    </tr>\n",
       "  </tbody>\n",
       "</table>\n",
       "</div>"
      ],
      "text/plain": [
       "   id transaction_id  amount                 time          msisdn      name  \\\n",
       "0   1     RCV32GIBVF       1  2023-03-31 15:34:36  2547 ***** 551  EMMANUEL   \n",
       "1   2     RCV42HPXMK     200  2023-03-31 15:46:58  2547 ***** 228  TEMITOPE   \n",
       "2   3     RCV12JY23B     400  2023-03-31 16:09:07  2547 ***** 418   MOHAMED   \n",
       "3   4     RCV92KRULJ     500  2023-03-31 16:17:21  2547 ***** 829     IRENE   \n",
       "4   5     RCV92LHK1D     400  2023-03-31 16:24:21  2547 ***** 418   MOHAMED   \n",
       "5   6     RCV62MJBHA     295  2023-03-31 16:34:05  2547 ***** 132     brian   \n",
       "6   7     RCV62NLQ7M     114  2023-03-31 16:43:43  2547 ***** 500   LILLIAN   \n",
       "7   8     RCV72PM8ZZ     695  2023-03-31 17:01:38  2547 ***** 316   OPEYEMI   \n",
       "8   9     RCV92PNEFF      60  2023-03-31 17:02:02  2547 ***** 466      ZENA   \n",
       "9  10     RCV62QQ6EW     250  2023-03-31 17:11:27  2547 ***** 140     ANNAH   \n",
       "\n",
       "  mpesa_payment_status db_status                     created_at  \\\n",
       "0           attributed    active  2023-03-31 12:34:37.271319+00   \n",
       "1              unknown    active  2023-03-31 12:46:58.932496+00   \n",
       "2              unknown    active  2023-03-31 13:09:08.117801+00   \n",
       "3              unknown    active  2023-03-31 13:17:22.777533+00   \n",
       "4              unknown    active  2023-03-31 13:24:23.225398+00   \n",
       "5              unknown    active  2023-03-31 13:34:06.582739+00   \n",
       "6              unknown    active  2023-03-31 13:43:44.102129+00   \n",
       "7              unknown    active  2023-03-31 14:01:39.254328+00   \n",
       "8              unknown    active   2023-03-31 14:02:03.00071+00   \n",
       "9              unknown    active  2023-03-31 14:11:28.152434+00   \n",
       "\n",
       "                      updated_at  \n",
       "0  2023-04-07 05:51:35.255943+00  \n",
       "1                            NaN  \n",
       "2                            NaN  \n",
       "3                            NaN  \n",
       "4                            NaN  \n",
       "5                            NaN  \n",
       "6                            NaN  \n",
       "7                            NaN  \n",
       "8                            NaN  \n",
       "9                            NaN  "
      ]
     },
     "execution_count": 18,
     "metadata": {},
     "output_type": "execute_result"
    }
   ],
   "source": [
    "df.head(10)"
   ]
  },
  {
   "cell_type": "code",
   "execution_count": 19,
   "metadata": {
    "colab": {
     "base_uri": "https://localhost:8080/"
    },
    "executionInfo": {
     "elapsed": 7,
     "status": "ok",
     "timestamp": 1686507719942,
     "user": {
      "displayName": "Pro Grammar",
      "userId": "12741485707467933399"
     },
     "user_tz": -180
    },
    "id": "tormQg8PsQff",
    "outputId": "d8774386-38b2-4364-953e-71f113c82cd6"
   },
   "outputs": [
    {
     "data": {
      "text/plain": [
       "['id',\n",
       " 'transaction_id',\n",
       " 'amount',\n",
       " 'time',\n",
       " 'msisdn',\n",
       " 'name',\n",
       " 'mpesa_payment_status',\n",
       " 'db_status',\n",
       " 'created_at',\n",
       " 'updated_at']"
      ]
     },
     "execution_count": 19,
     "metadata": {},
     "output_type": "execute_result"
    }
   ],
   "source": [
    "headers = list(df.columns)\n",
    "headers"
   ]
  },
  {
   "cell_type": "code",
   "execution_count": 20,
   "metadata": {
    "colab": {
     "base_uri": "https://localhost:8080/"
    },
    "executionInfo": {
     "elapsed": 634,
     "status": "ok",
     "timestamp": 1686507783937,
     "user": {
      "displayName": "Pro Grammar",
      "userId": "12741485707467933399"
     },
     "user_tz": -180
    },
    "id": "_4wGW8fdsami",
    "outputId": "5ba0f84d-ebf3-4caf-dd7f-59ae203c1ab8"
   },
   "outputs": [
    {
     "data": {
      "text/plain": [
       "['transaction_id',\n",
       " 'amount',\n",
       " 'time',\n",
       " 'msisdn',\n",
       " 'name',\n",
       " 'mpesa_payment_status',\n",
       " 'db_status']"
      ]
     },
     "execution_count": 20,
     "metadata": {},
     "output_type": "execute_result"
    }
   ],
   "source": [
    "headers.remove('id')\n",
    "headers.remove('created_at')\n",
    "headers.remove('updated_at')\n",
    "headers"
   ]
  },
  {
   "cell_type": "code",
   "execution_count": 21,
   "metadata": {
    "colab": {
     "base_uri": "https://localhost:8080/"
    },
    "executionInfo": {
     "elapsed": 393,
     "status": "ok",
     "timestamp": 1686507850548,
     "user": {
      "displayName": "Pro Grammar",
      "userId": "12741485707467933399"
     },
     "user_tz": -180
    },
    "id": "FH_lBAwtsm98",
    "outputId": "52927173-c17e-4fb4-a3c2-f47c8b12bfb3"
   },
   "outputs": [
    {
     "name": "stdout",
     "output_type": "stream",
     "text": [
      "{'transaction_id': 'RCV32GIBVF', 'amount': 1, 'time': '2023-03-31 15:34:36', 'msisdn': '2547 ***** 551', 'name': 'EMMANUEL', 'mpesa_payment_status': 'attributed', 'db_status': 'active'}\n",
      "{'transaction_id': 'RCV42HPXMK', 'amount': 200, 'time': '2023-03-31 15:46:58', 'msisdn': '2547 ***** 228', 'name': 'TEMITOPE', 'mpesa_payment_status': 'unknown', 'db_status': 'active'}\n",
      "{'transaction_id': 'RCV12JY23B', 'amount': 400, 'time': '2023-03-31 16:09:07', 'msisdn': '2547 ***** 418', 'name': 'MOHAMED', 'mpesa_payment_status': 'unknown', 'db_status': 'active'}\n",
      "{'transaction_id': 'RCV92KRULJ', 'amount': 500, 'time': '2023-03-31 16:17:21', 'msisdn': '2547 ***** 829', 'name': 'IRENE', 'mpesa_payment_status': 'unknown', 'db_status': 'active'}\n",
      "{'transaction_id': 'RCV92LHK1D', 'amount': 400, 'time': '2023-03-31 16:24:21', 'msisdn': '2547 ***** 418', 'name': 'MOHAMED', 'mpesa_payment_status': 'unknown', 'db_status': 'active'}\n"
     ]
    }
   ],
   "source": [
    "for i, row in df.head(5).iterrows():\n",
    "  values = {header: row[header] for header in headers}\n",
    "  print(values)"
   ]
  },
  {
   "cell_type": "code",
   "execution_count": 22,
   "metadata": {
    "colab": {
     "base_uri": "https://localhost:8080/"
    },
    "executionInfo": {
     "elapsed": 3,
     "status": "ok",
     "timestamp": 1686507951178,
     "user": {
      "displayName": "Pro Grammar",
      "userId": "12741485707467933399"
     },
     "user_tz": -180
    },
    "id": "eW6rMTSbs62n",
    "outputId": "6a53341c-a521-44eb-ecd4-887f31c119b9"
   },
   "outputs": [],
   "source": [
    "defaults = {\"org_acc_bal\": 0, \"record_source\": \"safaricom\"}\n",
    "for i, row in df.iterrows():\n",
    "  values = {header: row[header] for header in headers if not pd.isna(row[header])}\n",
    "  if pd.isna(row['msisdn']):\n",
    "      values['msisdn'] = ' '      \n",
    "  for col in defaults:\n",
    "    values[col] = defaults[col]\n",
    "  with open('../query_scripts/mpesa_payments.py', 'a') as fp:\n",
    "    fp.write('create_mpesa_payment(**'+str(values)+')\\n')"
   ]
  }
 ],
 "metadata": {
  "colab": {
   "authorship_tag": "ABX9TyMS+6E1DYeuPohon19DOQkp",
   "provenance": []
  },
  "kernelspec": {
   "display_name": "Python 3 (ipykernel)",
   "language": "python",
   "name": "python3"
  },
  "language_info": {
   "codemirror_mode": {
    "name": "ipython",
    "version": 3
   },
   "file_extension": ".py",
   "mimetype": "text/x-python",
   "name": "python",
   "nbconvert_exporter": "python",
   "pygments_lexer": "ipython3",
   "version": "3.10.8"
  }
 },
 "nbformat": 4,
 "nbformat_minor": 1
}
