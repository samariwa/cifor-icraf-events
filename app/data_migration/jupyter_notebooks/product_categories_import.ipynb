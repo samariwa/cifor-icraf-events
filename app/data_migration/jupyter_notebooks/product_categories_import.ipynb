{
 "cells": [
  {
   "cell_type": "code",
   "execution_count": 7,
   "id": "bcfddcec",
   "metadata": {},
   "outputs": [],
   "source": [
    "import pandas as pd\n",
    "df = pd.read_csv('../csv/category.csv')"
   ]
  },
  {
   "cell_type": "code",
   "execution_count": 8,
   "id": "55f9790b",
   "metadata": {},
   "outputs": [
    {
     "data": {
      "text/plain": [
       "['id', 'Category_Name', 'Icon', 'Created_at', 'Updated_at']"
      ]
     },
     "execution_count": 8,
     "metadata": {},
     "output_type": "execute_result"
    }
   ],
   "source": [
    "headers = list(df.columns)\n",
    "headers"
   ]
  },
  {
   "cell_type": "code",
   "execution_count": 9,
   "id": "79c380d5",
   "metadata": {},
   "outputs": [],
   "source": [
    "df = df.rename(columns={'Category_Name': 'category_name'})"
   ]
  },
  {
   "cell_type": "code",
   "execution_count": 10,
   "id": "2bd494aa",
   "metadata": {},
   "outputs": [
    {
     "data": {
      "text/html": [
       "<div>\n",
       "<style scoped>\n",
       "    .dataframe tbody tr th:only-of-type {\n",
       "        vertical-align: middle;\n",
       "    }\n",
       "\n",
       "    .dataframe tbody tr th {\n",
       "        vertical-align: top;\n",
       "    }\n",
       "\n",
       "    .dataframe thead th {\n",
       "        text-align: right;\n",
       "    }\n",
       "</style>\n",
       "<table border=\"1\" class=\"dataframe\">\n",
       "  <thead>\n",
       "    <tr style=\"text-align: right;\">\n",
       "      <th></th>\n",
       "      <th>id</th>\n",
       "      <th>category_name</th>\n",
       "      <th>Icon</th>\n",
       "      <th>Created_at</th>\n",
       "      <th>Updated_at</th>\n",
       "    </tr>\n",
       "  </thead>\n",
       "  <tbody>\n",
       "    <tr>\n",
       "      <th>0</th>\n",
       "      <td>1</td>\n",
       "      <td>Chicken Products</td>\n",
       "      <td>chicken.png</td>\n",
       "      <td>2021-03-25 19:43:18</td>\n",
       "      <td>2022-06-19 03:35:22</td>\n",
       "    </tr>\n",
       "    <tr>\n",
       "      <th>1</th>\n",
       "      <td>2</td>\n",
       "      <td>Fish</td>\n",
       "      <td>fish.png</td>\n",
       "      <td>2021-03-25 19:43:43</td>\n",
       "      <td>2021-03-25 19:47:50</td>\n",
       "    </tr>\n",
       "    <tr>\n",
       "      <th>2</th>\n",
       "      <td>3</td>\n",
       "      <td>Vegetables</td>\n",
       "      <td>vegetables.png</td>\n",
       "      <td>2021-03-25 19:43:58</td>\n",
       "      <td>2021-03-25 19:48:02</td>\n",
       "    </tr>\n",
       "    <tr>\n",
       "      <th>3</th>\n",
       "      <td>4</td>\n",
       "      <td>Meat</td>\n",
       "      <td>meat.png</td>\n",
       "      <td>2021-03-25 19:44:03</td>\n",
       "      <td>2021-03-25 19:48:11</td>\n",
       "    </tr>\n",
       "    <tr>\n",
       "      <th>4</th>\n",
       "      <td>5</td>\n",
       "      <td>Packaging</td>\n",
       "      <td>NaN</td>\n",
       "      <td>2022-02-25 14:12:14</td>\n",
       "      <td>NaN</td>\n",
       "    </tr>\n",
       "    <tr>\n",
       "      <th>5</th>\n",
       "      <td>6</td>\n",
       "      <td>Fruits</td>\n",
       "      <td>NaN</td>\n",
       "      <td>2022-03-04 04:00:25</td>\n",
       "      <td>NaN</td>\n",
       "    </tr>\n",
       "    <tr>\n",
       "      <th>6</th>\n",
       "      <td>7</td>\n",
       "      <td>Cooked Food</td>\n",
       "      <td>NaN</td>\n",
       "      <td>2022-03-06 05:52:42</td>\n",
       "      <td>NaN</td>\n",
       "    </tr>\n",
       "    <tr>\n",
       "      <th>7</th>\n",
       "      <td>8</td>\n",
       "      <td>Flour</td>\n",
       "      <td>NaN</td>\n",
       "      <td>2022-06-29 12:55:47</td>\n",
       "      <td>NaN</td>\n",
       "    </tr>\n",
       "    <tr>\n",
       "      <th>8</th>\n",
       "      <td>9</td>\n",
       "      <td>Spices</td>\n",
       "      <td>NaN</td>\n",
       "      <td>2022-08-15 01:07:51</td>\n",
       "      <td>NaN</td>\n",
       "    </tr>\n",
       "  </tbody>\n",
       "</table>\n",
       "</div>"
      ],
      "text/plain": [
       "   id     category_name            Icon           Created_at  \\\n",
       "0   1  Chicken Products     chicken.png  2021-03-25 19:43:18   \n",
       "1   2              Fish        fish.png  2021-03-25 19:43:43   \n",
       "2   3        Vegetables  vegetables.png  2021-03-25 19:43:58   \n",
       "3   4              Meat        meat.png  2021-03-25 19:44:03   \n",
       "4   5         Packaging             NaN  2022-02-25 14:12:14   \n",
       "5   6            Fruits             NaN  2022-03-04 04:00:25   \n",
       "6   7       Cooked Food             NaN  2022-03-06 05:52:42   \n",
       "7   8             Flour             NaN  2022-06-29 12:55:47   \n",
       "8   9            Spices             NaN  2022-08-15 01:07:51   \n",
       "\n",
       "            Updated_at  \n",
       "0  2022-06-19 03:35:22  \n",
       "1  2021-03-25 19:47:50  \n",
       "2  2021-03-25 19:48:02  \n",
       "3  2021-03-25 19:48:11  \n",
       "4                  NaN  \n",
       "5                  NaN  \n",
       "6                  NaN  \n",
       "7                  NaN  \n",
       "8                  NaN  "
      ]
     },
     "execution_count": 10,
     "metadata": {},
     "output_type": "execute_result"
    }
   ],
   "source": [
    "df"
   ]
  },
  {
   "cell_type": "code",
   "execution_count": 11,
   "id": "f64c8c8c",
   "metadata": {},
   "outputs": [
    {
     "data": {
      "text/plain": [
       "['category_name']"
      ]
     },
     "execution_count": 11,
     "metadata": {},
     "output_type": "execute_result"
    }
   ],
   "source": [
    "headers = list(df.columns)\n",
    "headers.remove('Created_at')\n",
    "headers.remove('Updated_at')\n",
    "headers.remove('id')\n",
    "headers.remove('Icon')\n",
    "headers"
   ]
  },
  {
   "cell_type": "code",
   "execution_count": 12,
   "id": "b1331745",
   "metadata": {},
   "outputs": [
    {
     "name": "stdout",
     "output_type": "stream",
     "text": [
      "{'category_name': 'Chicken Products'}\n",
      "{'category_name': 'Fish'}\n",
      "{'category_name': 'Vegetables'}\n",
      "{'category_name': 'Meat'}\n",
      "{'category_name': 'Packaging'}\n"
     ]
    }
   ],
   "source": [
    "for i, row in df.head(5).iterrows():\n",
    "  values = {header: row[header] for header in headers}\n",
    "  print(values)"
   ]
  },
  {
   "cell_type": "code",
   "execution_count": 13,
   "id": "213a2599",
   "metadata": {},
   "outputs": [],
   "source": [
    "for i, row in df.iterrows():\n",
    "  values = {header: row[header] for header in headers if row[header]}\n",
    "\n",
    "  with open('../query_scripts/product_categories.py', 'a') as fp:\n",
    "      fp.write('create_product_category(**'+str(values)+')\\n')"
   ]
  },
  {
   "cell_type": "code",
   "execution_count": null,
   "id": "2f673076",
   "metadata": {},
   "outputs": [],
   "source": []
  }
 ],
 "metadata": {
  "kernelspec": {
   "display_name": "Python 3 (ipykernel)",
   "language": "python",
   "name": "python3"
  },
  "language_info": {
   "codemirror_mode": {
    "name": "ipython",
    "version": 3
   },
   "file_extension": ".py",
   "mimetype": "text/x-python",
   "name": "python",
   "nbconvert_exporter": "python",
   "pygments_lexer": "ipython3",
   "version": "3.10.8"
  }
 },
 "nbformat": 4,
 "nbformat_minor": 5
}
