{
 "cells": [
  {
   "cell_type": "code",
   "execution_count": 8,
   "id": "1555f4f3",
   "metadata": {},
   "outputs": [],
   "source": [
    "import pandas as pd\n",
    "df = pd.read_csv('../csv/stock_flow.csv')"
   ]
  },
  {
   "cell_type": "code",
   "execution_count": 9,
   "id": "8401380c",
   "metadata": {},
   "outputs": [
    {
     "data": {
      "text/plain": [
       "['id',\n",
       " 'Stock_id',\n",
       " 'Buying_price',\n",
       " 'Selling_price',\n",
       " 'Received_date',\n",
       " 'Purchased',\n",
       " 'Damaged',\n",
       " 'Expiry_date',\n",
       " 'Created_at',\n",
       " 'Updated_at']"
      ]
     },
     "execution_count": 9,
     "metadata": {},
     "output_type": "execute_result"
    }
   ],
   "source": [
    "headers = list(df.columns)\n",
    "headers"
   ]
  },
  {
   "cell_type": "code",
   "execution_count": 10,
   "id": "bdc2503b",
   "metadata": {},
   "outputs": [],
   "source": [
    "df = df.rename(columns={'Stock_id': 'product_id',\n",
    "                        'Buying_price': 'buying_price',\n",
    "                        'Selling_price': 'selling_price',\n",
    "                        'Received_date': 'date_received',\n",
    "                        'Purchased': 'qty_purchased',\n",
    "                        'Damaged': 'damaged',\n",
    "                        'Expiry_date': 'expiry_date'})"
   ]
  },
  {
   "cell_type": "code",
   "execution_count": 11,
   "id": "062808d6",
   "metadata": {},
   "outputs": [
    {
     "data": {
      "text/plain": [
       "['product_id',\n",
       " 'buying_price',\n",
       " 'selling_price',\n",
       " 'date_received',\n",
       " 'qty_purchased',\n",
       " 'damaged',\n",
       " 'expiry_date']"
      ]
     },
     "execution_count": 11,
     "metadata": {},
     "output_type": "execute_result"
    }
   ],
   "source": [
    "headers = list(df.columns)\n",
    "headers.remove('Created_at')\n",
    "headers.remove('Updated_at')\n",
    "headers.remove('id')\n",
    "headers"
   ]
  },
  {
   "cell_type": "code",
   "execution_count": 12,
   "id": "2f183a50",
   "metadata": {},
   "outputs": [
    {
     "name": "stdout",
     "output_type": "stream",
     "text": [
      "{'product_id': 18, 'buying_price': 400.0, 'selling_price': 500.0, 'date_received': '2022-02-25', 'qty_purchased': 46.0, 'damaged': 0.0, 'expiry_date': '2022-02-27'}\n",
      "{'product_id': 19, 'buying_price': 400.0, 'selling_price': 500.0, 'date_received': '2022-02-25', 'qty_purchased': 0.0, 'damaged': 0.0, 'expiry_date': '2022-02-27'}\n",
      "{'product_id': 20, 'buying_price': 400.0, 'selling_price': 600.0, 'date_received': '2022-02-25', 'qty_purchased': 0.0, 'damaged': 0.0, 'expiry_date': '2022-02-28'}\n",
      "{'product_id': 21, 'buying_price': 400.0, 'selling_price': 600.0, 'date_received': '2022-02-25', 'qty_purchased': 0.0, 'damaged': 0.0, 'expiry_date': '2022-02-28'}\n",
      "{'product_id': 22, 'buying_price': 400.0, 'selling_price': 600.0, 'date_received': '2022-02-25', 'qty_purchased': 0.0, 'damaged': 0.0, 'expiry_date': '2022-02-25'}\n"
     ]
    }
   ],
   "source": [
    "for i, row in df.head(5).iterrows():\n",
    "  values = {header: row[header] for header in headers}\n",
    "  print(values)"
   ]
  },
  {
   "cell_type": "code",
   "execution_count": 14,
   "id": "02cbc45e",
   "metadata": {},
   "outputs": [],
   "source": [
    "for i, row in df.iterrows():\n",
    "  values = {header: row[header] for header in headers if row[header]}\n",
    "  values['supplier_id'] = 1\n",
    "  values['current_qty'] = 0\n",
    "  with open('../query_scripts/product_batches.py', 'a') as fp:\n",
    "      fp.write('create_product_batch(**'+str(values)+')\\n')"
   ]
  },
  {
   "cell_type": "code",
   "execution_count": null,
   "id": "d4c00fce",
   "metadata": {},
   "outputs": [],
   "source": []
  }
 ],
 "metadata": {
  "kernelspec": {
   "display_name": "Python 3 (ipykernel)",
   "language": "python",
   "name": "python3"
  },
  "language_info": {
   "codemirror_mode": {
    "name": "ipython",
    "version": 3
   },
   "file_extension": ".py",
   "mimetype": "text/x-python",
   "name": "python",
   "nbconvert_exporter": "python",
   "pygments_lexer": "ipython3",
   "version": "3.10.8"
  }
 },
 "nbformat": 4,
 "nbformat_minor": 5
}
