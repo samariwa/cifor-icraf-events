{
 "cells": [
  {
   "cell_type": "code",
   "execution_count": 34,
   "id": "38a4eec7",
   "metadata": {},
   "outputs": [],
   "source": [
    "import pandas as pd\n",
    "orders_df = pd.read_csv('../csv/orders.csv')"
   ]
  },
  {
   "cell_type": "code",
   "execution_count": 35,
   "id": "7f85754e",
   "metadata": {},
   "outputs": [],
   "source": [
    "orders_df = orders_df.rename(columns={'Customer_id': 'customer_id', \n",
    "                        'Delivery_time': 'order_date'})"
   ]
  },
  {
   "cell_type": "code",
   "execution_count": 36,
   "id": "ad704f92",
   "metadata": {},
   "outputs": [
    {
     "data": {
      "text/plain": [
       "['id',\n",
       " 'Order_id',\n",
       " 'customer_id',\n",
       " 'Location',\n",
       " 'Status_id',\n",
       " 'Category_id',\n",
       " 'Stock_id',\n",
       " 'Quantity',\n",
       " 'Discount',\n",
       " 'Debt',\n",
       " 'MPesa',\n",
       " 'Cash',\n",
       " 'Fine',\n",
       " 'Balance',\n",
       " 'Delivery',\n",
       " 'order_date',\n",
       " 'Returned',\n",
       " 'Invoice_Number',\n",
       " 'Banked',\n",
       " 'Slip_Number',\n",
       " 'Banked_By',\n",
       " 'Customer_type',\n",
       " 'Walk_in_name',\n",
       " 'Created_at',\n",
       " 'Updated_at']"
      ]
     },
     "execution_count": 36,
     "metadata": {},
     "output_type": "execute_result"
    }
   ],
   "source": [
    "headers = list(orders_df.columns)\n",
    "headers"
   ]
  },
  {
   "cell_type": "code",
   "execution_count": 37,
   "id": "d6332834",
   "metadata": {},
   "outputs": [],
   "source": [
    "import pandas as pd\n",
    "stock_df = pd.read_csv('../csv/stock.csv')"
   ]
  },
  {
   "cell_type": "code",
   "execution_count": 38,
   "id": "e566f099",
   "metadata": {},
   "outputs": [
    {
     "data": {
      "text/plain": [
       "['id',\n",
       " 'Category_id',\n",
       " 'Supplier_id',\n",
       " 'Name',\n",
       " 'image',\n",
       " 'Unit_id',\n",
       " 'Subunit_id',\n",
       " 'Contains',\n",
       " 'subunit_replenish_qty',\n",
       " 'Buying_price',\n",
       " 'Discount',\n",
       " 'Price',\n",
       " 'Opening_stock',\n",
       " 'Quantity',\n",
       " 'Restock_Level',\n",
       " 'Created_at',\n",
       " 'Updated_at']"
      ]
     },
     "execution_count": 38,
     "metadata": {},
     "output_type": "execute_result"
    }
   ],
   "source": [
    "headers = list(stock_df.columns)\n",
    "headers"
   ]
  },
  {
   "cell_type": "code",
   "execution_count": 39,
   "id": "94230243",
   "metadata": {},
   "outputs": [
    {
     "data": {
      "text/plain": [
       "['Order_id',\n",
       " 'customer_id',\n",
       " 'Stock_id',\n",
       " 'Quantity',\n",
       " 'Discount',\n",
       " 'order_date',\n",
       " 'Customer_type']"
      ]
     },
     "execution_count": 39,
     "metadata": {},
     "output_type": "execute_result"
    }
   ],
   "source": [
    "orders_headers = list(orders_df.columns)\n",
    "orders_headers.remove('Created_at')\n",
    "orders_headers.remove('Category_id')\n",
    "orders_headers.remove('Updated_at')\n",
    "orders_headers.remove('id')\n",
    "orders_headers.remove('MPesa')\n",
    "orders_headers.remove('Cash')\n",
    "orders_headers.remove('Debt')\n",
    "orders_headers.remove('Fine')\n",
    "orders_headers.remove('Balance')\n",
    "orders_headers.remove('Delivery')\n",
    "orders_headers.remove('Location')\n",
    "orders_headers.remove('Status_id')\n",
    "orders_headers.remove('Returned')\n",
    "orders_headers.remove('Invoice_Number')\n",
    "orders_headers.remove('Banked')\n",
    "orders_headers.remove('Slip_Number')\n",
    "orders_headers.remove('Banked_By')\n",
    "orders_headers.remove('Walk_in_name')\n",
    "orders_headers"
   ]
  },
  {
   "cell_type": "code",
   "execution_count": 40,
   "id": "8a37112b",
   "metadata": {},
   "outputs": [
    {
     "data": {
      "text/plain": [
       "['id', 'Price']"
      ]
     },
     "execution_count": 40,
     "metadata": {},
     "output_type": "execute_result"
    }
   ],
   "source": [
    "stock_headers = list(stock_df.columns)\n",
    "stock_headers.remove('Created_at')\n",
    "stock_headers.remove('Category_id')\n",
    "stock_headers.remove('Updated_at')\n",
    "stock_headers.remove('Unit_id')\n",
    "stock_headers.remove('Supplier_id')\n",
    "stock_headers.remove('Name')\n",
    "stock_headers.remove('image')\n",
    "stock_headers.remove('Subunit_id')\n",
    "stock_headers.remove('Contains')\n",
    "stock_headers.remove('subunit_replenish_qty')\n",
    "stock_headers.remove('Buying_price')\n",
    "stock_headers.remove('Discount')\n",
    "stock_headers.remove('Opening_stock')\n",
    "stock_headers.remove('Quantity')\n",
    "stock_headers.remove('Restock_Level')\n",
    "stock_headers"
   ]
  },
  {
   "cell_type": "code",
   "execution_count": 41,
   "id": "fba3c51b",
   "metadata": {},
   "outputs": [
    {
     "name": "stdout",
     "output_type": "stream",
     "text": [
      "{'Order_id': 1, 'customer_id': 1, 'Stock_id': 25, 'Quantity': 1.0, 'Discount': 20, 'order_date': '26/02/2022', 'Customer_type': 'walk_in'}\n",
      "{'Order_id': 2, 'customer_id': 1, 'Stock_id': 20, 'Quantity': 1.0, 'Discount': 20, 'order_date': '26/02/2022', 'Customer_type': 'walk_in'}\n",
      "{'Order_id': 3, 'customer_id': 1, 'Stock_id': 20, 'Quantity': 1.0, 'Discount': 20, 'order_date': '26/02/2022', 'Customer_type': 'walk_in'}\n",
      "{'Order_id': 3, 'customer_id': 1, 'Stock_id': 37, 'Quantity': 1.36, 'Discount': 20, 'order_date': '26/02/2022', 'Customer_type': 'walk_in'}\n",
      "{'Order_id': 4, 'customer_id': 19, 'Stock_id': 37, 'Quantity': 1.38, 'Discount': 20, 'order_date': '26/02/2022', 'Customer_type': 'online'}\n"
     ]
    }
   ],
   "source": [
    "for i, row in orders_df.head(5).iterrows():\n",
    "  values = {header: row[header] for header in orders_headers}\n",
    "  print(values)"
   ]
  },
  {
   "cell_type": "code",
   "execution_count": 45,
   "id": "bf87b585",
   "metadata": {},
   "outputs": [],
   "source": [
    "import numpy as np\n",
    "headers_excluded = ['Stock_id', 'Quantity', 'Discount', 'Customer_type', 'Order_id']\n",
    "for i, order_row in orders_df.head(5).iterrows():\n",
    "  values = {header: order_row[header] for header in orders_headers if header not in headers_excluded}\n",
    "  for j, stock_row in stock_df.iterrows():\n",
    "        if order_row['Stock_id'] == stock_row['id']:\n",
    "            order_cost = (stock_row['Price'] - stock_row['Discount']) * order_row['Quantity']\n",
    "            values['order_cost'] = np.round(order_cost, decimals=2)\n",
    "            values['tax_payable'] = np.round(0.16 * order_cost, decimals=2)\n",
    "  if order_row['Customer_type'] == 'walk_in':\n",
    "    values['order_type'] = 'walk in'\n",
    "  elif order_row['Customer_type'] == 'online':\n",
    "    values['order_type'] = 'phone'\n",
    "  values['order_status'] = 'fulfilled'\n",
    "  with open('../query_scripts/orders.py', 'a') as fp:\n",
    "      fp.write('create_order(**'+str(values)+')\\n')"
   ]
  },
  {
   "cell_type": "code",
   "execution_count": null,
   "id": "2d2418a8",
   "metadata": {},
   "outputs": [],
   "source": []
  }
 ],
 "metadata": {
  "kernelspec": {
   "display_name": "Python 3 (ipykernel)",
   "language": "python",
   "name": "python3"
  },
  "language_info": {
   "codemirror_mode": {
    "name": "ipython",
    "version": 3
   },
   "file_extension": ".py",
   "mimetype": "text/x-python",
   "name": "python",
   "nbconvert_exporter": "python",
   "pygments_lexer": "ipython3",
   "version": "3.10.8"
  }
 },
 "nbformat": 4,
 "nbformat_minor": 5
}
